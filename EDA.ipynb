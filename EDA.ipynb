{
  "nbformat": 4,
  "nbformat_minor": 0,
  "metadata": {
    "colab": {
      "name": "EDA.ipynb",
      "private_outputs": true,
      "provenance": []
    },
    "kernelspec": {
      "name": "python3",
      "display_name": "Python 3"
    },
    "language_info": {
      "name": "python"
    }
  },
  "cells": [
    {
      "cell_type": "markdown",
      "source": [
        "**Dief Mohamed Dief**\n",
        "\n",
        "Data Science and Business Analytics Intern @ The Sparks Foundation\n",
        "\n",
        "Topic : Exploratory Data Analysis (EDA) - Terrorism\n",
        "\n",
        "Dataset : globalterrorismdb_0718dist.csv [https://bit.ly/2TK5Xn5]"
      ],
      "metadata": {
        "id": "v85KVfiUJDbS"
      }
    },
    {
      "cell_type": "code",
      "execution_count": null,
      "metadata": {
        "id": "2yYuNqPf96Q_"
      },
      "outputs": [],
      "source": [
        "#import the required libraries\n",
        "import numpy as np\n",
        "import matplotlib.pyplot as plt \n",
        "import pandas as pd\n",
        "import seaborn as sns\n",
        "%matplotlib inline"
      ]
    },
    {
      "cell_type": "code",
      "source": [
        "#read the data\n",
        "df = pd.read_csv(\"/content/globalterrorismdb_0718dist.csv\" , encoding = 'ISO-8859-1')\n",
        "df.head()"
      ],
      "metadata": {
        "id": "jpGpBSKe-j3w"
      },
      "execution_count": null,
      "outputs": []
    },
    {
      "cell_type": "code",
      "source": [
        "df.tail()"
      ],
      "metadata": {
        "id": "8Fop9FZqEH6S"
      },
      "execution_count": null,
      "outputs": []
    },
    {
      "cell_type": "code",
      "source": [
        "df.columns.values"
      ],
      "metadata": {
        "id": "wfBUIBrP_brr"
      },
      "execution_count": null,
      "outputs": []
    },
    {
      "cell_type": "code",
      "source": [
        "df.rename(columns={'iyear':'Year','imonth':'Month','iday':'Day','gname':'Group','country_txt':'Country','region_txt':'Region','provstate':'State' ,'city':'City' ,\n",
        "                   'latitude':'Latitude', 'longitude':'Longitude' ,'summary':'summary','attacktype1_txt':'Attacktype','targtype1_txt':'Targettype','weaptype1_txt':'Weapon','nkill':'kill',\n",
        "     'nwound':'Wound'},inplace=True)\n",
        "\n",
        "df.columns.values"
      ],
      "metadata": {
        "id": "d6uMzxxzJ_HX"
      },
      "execution_count": null,
      "outputs": []
    },
    {
      "cell_type": "code",
      "source": [
        "df = df[['Year','Month','Day','Country','State','Region','City','Latitude','Longitude',\"Attacktype\",'kill',\n",
        "               'Wound','target1','summary','Group','Targettype','Weapon','motive']]"
      ],
      "metadata": {
        "id": "wnZ9Bg1CMQP2"
      },
      "execution_count": null,
      "outputs": []
    },
    {
      "cell_type": "code",
      "source": [
        "df.head()"
      ],
      "metadata": {
        "id": "YM8OzhT9OTtx"
      },
      "execution_count": null,
      "outputs": []
    },
    {
      "cell_type": "code",
      "source": [
        "#remove the duplicated rows\n",
        "df.drop_duplicates(inplace = False)"
      ],
      "metadata": {
        "id": "w9eV8SpkO9KU"
      },
      "execution_count": null,
      "outputs": []
    },
    {
      "cell_type": "code",
      "source": [
        "df.isnull().sum()"
      ],
      "metadata": {
        "id": "dDIfahVxOmaF"
      },
      "execution_count": null,
      "outputs": []
    },
    {
      "cell_type": "code",
      "source": [
        "#fill the none values in wound and kill columns with (0)\n",
        "df['Wound'] = df['Wound'].fillna(0)\n",
        "df['kill'] = df['kill'].fillna(0)\n",
        "#insert a new column for human_damages\n",
        "df[\"human_damages\"] = df['Wound'] + df['kill']"
      ],
      "metadata": {
        "id": "-pckzJ_1IhRn"
      },
      "execution_count": null,
      "outputs": []
    },
    {
      "cell_type": "code",
      "source": [
        "df.info()"
      ],
      "metadata": {
        "id": "nDJdsRtxQ3z2"
      },
      "execution_count": null,
      "outputs": []
    },
    {
      "cell_type": "code",
      "source": [
        "#show the statistics calculations\n",
        "df.describe()"
      ],
      "metadata": {
        "id": "qd1THgxtRymf"
      },
      "execution_count": null,
      "outputs": []
    },
    {
      "cell_type": "code",
      "source": [
        "df.nunique()"
      ],
      "metadata": {
        "id": "lS0R_UFQgmbw"
      },
      "execution_count": null,
      "outputs": []
    },
    {
      "cell_type": "code",
      "source": [
        "#visualize the number of attacks in each year\n",
        "year = df['Year'].unique()\n",
        "years_count = df['Year'].value_counts(dropna = False).sort_index()\n",
        "plt.figure(figsize = (18,10))\n",
        "sns.barplot(x = year,\n",
        "           y = years_count,\n",
        "           palette = \"tab10\")\n",
        "plt.xticks(rotation = 50)\n",
        "plt.xlabel('Attacking Year',fontsize=20)\n",
        "plt.ylabel('Number of Attacks Each Year',fontsize=20)\n",
        "plt.title('Attacks In Years',fontsize=30)\n",
        "plt.show()\n",
        "\n"
      ],
      "metadata": {
        "id": "GQ2uB2usRKK-"
      },
      "execution_count": null,
      "outputs": []
    },
    {
      "cell_type": "code",
      "source": [
        "#visualize the Number of Attacks By Region In Each Year\n",
        "pd.crosstab(df[\"Year\"], df[\"Region\"]).plot(kind='area',stacked=False,figsize=(20,10))\n",
        "plt.title('Terrorist Activities By Region In Each Year',fontsize=25)\n",
        "plt.ylabel('Number of Attacks',fontsize=20)\n",
        "plt.xlabel(\"Year\",fontsize=20)\n",
        "plt.show()"
      ],
      "metadata": {
        "id": "5ugzVGqGkhQd"
      },
      "execution_count": null,
      "outputs": []
    },
    {
      "cell_type": "code",
      "source": [
        "attacks = df[\"Country\"].value_counts()[ :20]\n",
        "attacks"
      ],
      "metadata": {
        "id": "JWdWZc3dqc_e"
      },
      "execution_count": null,
      "outputs": []
    },
    {
      "cell_type": "code",
      "source": [
        "#visualize the numper of attacks in each country \n",
        "#we will visualize on the top 20 countries\n",
        "\n",
        "attacks = df[\"Country\"].value_counts()[ :10]\n",
        "plt.figure(figsize = (18 ,10))\n",
        "sns.barplot(x = df[\"Country\"].value_counts()[ :10].index,\n",
        "           y = attacks,\n",
        "           palette = \"Paired\")\n",
        "plt.title(\"Top 10 Countries Affected \" , fontsize = 30)\n",
        "plt.xlabel(\"Country\" , fontsize = 20)\n",
        "plt.ylabel(\"Number of Attacks\" , fontsize = 20)\n",
        "plt.show()"
      ],
      "metadata": {
        "id": "V-9gQeEvvwFO"
      },
      "execution_count": null,
      "outputs": []
    },
    {
      "cell_type": "code",
      "source": [
        "df[['Year','kill']].groupby([\"Year\"],axis=0).sum().plot(kind='bar',figsize=(20,10),color=['darkslateblue'])\n",
        "plt.xticks(rotation=50)\n",
        "plt.title('Number of killed Each Year',fontsize=20)\n",
        "plt.ylabel('Number of people',fontsize=15)\n",
        "plt.xlabel('Year',fontsize=15)\n",
        "plt.show()\n"
      ],
      "metadata": {
        "id": "n37Rbm9_zbKS"
      },
      "execution_count": null,
      "outputs": []
    },
    {
      "cell_type": "code",
      "source": [
        "#visualize the most affected cities\n",
        "df['City'].value_counts().to_frame().sort_values('City',axis=0,ascending=False).head(10).plot(kind='bar',figsize=(20,10),color='blue')\n",
        "plt.title(\"The Top 10 Affected Cities\",fontsize=20)\n",
        "plt.xlabel(\"City\" ,fontsize=15)\n",
        "plt.ylabel(\"Number of Attack\",fontsize=15)\n",
        "plt.show()"
      ],
      "metadata": {
        "id": "KgPnJ8Au2qnj"
      },
      "execution_count": null,
      "outputs": []
    },
    {
      "cell_type": "code",
      "source": [
        "#visualize the name of attacktype\n",
        "df[\"Attacktype\"].value_counts().plot(kind = \"bar\" , figsize = (18,10) , color = \"blue\")\n",
        "plt.title(\"Name of Attacktype\" ,fontsize=20)\n",
        "plt.xlabel(\"Attacktype\",fontsize=15)\n",
        "plt.ylabel(\"Number of Attack\",fontsize=15)\n",
        "plt.show()"
      ],
      "metadata": {
        "id": "Q9-6aeZ8VSqi"
      },
      "execution_count": null,
      "outputs": []
    },
    {
      "cell_type": "code",
      "source": [
        "#visualize the number of killed people vs the attacktype\n",
        "df[[\"Attacktype\" , \"kill\"]].groupby([\"Attacktype\"] , axis =0).sum().plot(kind=\"bar\" , figsize = (18,10) , color =\"red\")\n",
        "plt.xticks(rotation = 50)\n",
        "plt.title(\"Number of Killed people vs The Attacktype\",fontsize=20)\n",
        "plt.xlabel(\"Attacktype\",fontsize=15)\n",
        "plt.ylabel(\"Number of Killed People\",fontsize=15)\n",
        "plt.show()"
      ],
      "metadata": {
        "id": "xRpKXBvpWQr6"
      },
      "execution_count": null,
      "outputs": []
    },
    {
      "cell_type": "code",
      "source": [
        "#visualize the number of Wound people vs the attacktype\n",
        "df[[\"Attacktype\" , \"Wound\"]].groupby([\"Attacktype\"] , axis =0).sum().plot(kind=\"bar\" , figsize = (18,10) , color =\"orange\")\n",
        "plt.xticks(rotation = 50)\n",
        "plt.title(\"Number of Wounded people vs The Attacktype\",fontsize=20)\n",
        "plt.xlabel(\"Attacktype\",fontsize=15)\n",
        "plt.ylabel(\"Number of Wounded People\",fontsize=15)\n",
        "plt.show()"
      ],
      "metadata": {
        "id": "Vg3-I3GMX-X9"
      },
      "execution_count": null,
      "outputs": []
    },
    {
      "cell_type": "code",
      "source": [
        "plt.subplots(figsize=(20,10))\n",
        "sns.countplot(df[\"Targettype\"],order=df['Targettype'].value_counts().index,palette=\"gist_heat\",edgecolor=sns.color_palette(\"mako\"));\n",
        "plt.xticks(rotation=90)\n",
        "plt.xlabel(\"Attacktype\",fontsize=15)\n",
        "plt.ylabel(\"count\",fontsize=15)\n",
        "plt.title(\"Attack per year\",fontsize=20)\n",
        "plt.show()"
      ],
      "metadata": {
        "id": "c2mZQw49YREt"
      },
      "execution_count": null,
      "outputs": []
    },
    {
      "cell_type": "code",
      "source": [
        "df['Group'].value_counts().to_frame().drop('Unknown')[ :10].plot(kind='bar',color='yellow',figsize=(20,10))\n",
        "plt.title(\"Top 10 terrorist group attack\",fontsize=20)\n",
        "plt.xlabel(\"terrorist group name\",fontsize=15)\n",
        "plt.ylabel(\"Attack number\",fontsize=15)\n",
        "plt.show()"
      ],
      "metadata": {
        "id": "kBSoK6ZcbV74"
      },
      "execution_count": null,
      "outputs": []
    },
    {
      "cell_type": "code",
      "source": [
        "df[['Group','kill']].groupby(['Group'],axis=0).sum().drop('Unknown').sort_values('kill',ascending=False).head(10).plot(kind='bar',color='red',figsize=(20,10))\n",
        "plt.title(\"Top 10 terrorist group attack\",fontsize=20)\n",
        "plt.xlabel(\"terrorist group name\",fontsize=15)\n",
        "plt.ylabel(\"No of killed people\",fontsize=15)\n",
        "plt.show()"
      ],
      "metadata": {
        "id": "SXLK4oWGc6Vm"
      },
      "execution_count": null,
      "outputs": []
    },
    {
      "cell_type": "code",
      "source": [
        "df1=df[['Group','Country','kill']]\n",
        "df1=df1.groupby(['Group','Country'],axis=0).sum().sort_values('kill',ascending=False).drop('Unknown').reset_index().head(10)\n",
        "df1"
      ],
      "metadata": {
        "id": "lpeVqCccfp2j"
      },
      "execution_count": null,
      "outputs": []
    },
    {
      "cell_type": "code",
      "source": [
        "kill = df.loc[:,'kill']\n",
        "print('Number of people killed by terror attack:', int(sum(kill.dropna())))"
      ],
      "metadata": {
        "id": "BH6c2UV5f3eT"
      },
      "execution_count": null,
      "outputs": []
    },
    {
      "cell_type": "code",
      "source": [
        "nkilled_due_to_attacktype = df.pivot_table(columns='Attacktype', values='kill', aggfunc='sum')\n",
        "nkilled_due_to_attacktype"
      ],
      "metadata": {
        "id": "iPS5DZ1bf9Qn"
      },
      "execution_count": null,
      "outputs": []
    },
    {
      "cell_type": "code",
      "source": [
        "nkilled_at_each_country = df.pivot_table(columns='Country', values='kill', aggfunc='sum')\n",
        "nkilled_at_each_country"
      ],
      "metadata": {
        "id": "5TwYnbyVgI2s"
      },
      "execution_count": null,
      "outputs": []
    },
    {
      "cell_type": "markdown",
      "source": [
        "**Conclusion and Results :**\n",
        "      \n",
        "\n",
        "1.   Country with the most attacks is : **Iraq**\n",
        "2.   City with the most attacks is : **Baghdad**\n",
        "3.   Region with the most attacks is: **South Asia**\n",
        "4.   Year with the most attacks is : **2011**\n",
        "5.   Month with the most attacks is : **5** \n",
        "6.   Group with the most attacks is: **Shining Path (SL)**\n",
        "7.   Most Attack Types is: **Bombing/Explosion**\n",
        "\n",
        "\n",
        "\n",
        "\n",
        "\n",
        "\n",
        "\n",
        "\n",
        "\n",
        "\n",
        "\n",
        "\n"
      ],
      "metadata": {
        "id": "WmE1onvPl6ah"
      }
    },
    {
      "cell_type": "code",
      "source": [
        ""
      ],
      "metadata": {
        "id": "rrY6yflsltb8"
      },
      "execution_count": null,
      "outputs": []
    }
  ]
}