{
  "nbformat": 4,
  "nbformat_minor": 0,
  "metadata": {
    "colab": {
      "name": "Untitled32.ipynb",
      "private_outputs": true,
      "provenance": [],
      "collapsed_sections": []
    },
    "kernelspec": {
      "name": "python3",
      "display_name": "Python 3"
    },
    "language_info": {
      "name": "python"
    }
  },
  "cells": [
    {
      "cell_type": "code",
      "execution_count": null,
      "metadata": {
        "id": "71rwrh_bRpYB"
      },
      "outputs": [],
      "source": [
        "#import the libraries\n",
        "import numpy as np \n",
        "import pandas as pd \n",
        "import matplotlib.pyplot as plt\n",
        "import seaborn as sns \n",
        "\n",
        "sns.set()\n",
        "import warnings \n",
        "warnings.filterwarnings(\"ignore\")\n",
        "%matplotlib inline "
      ]
    },
    {
      "cell_type": "code",
      "source": [
        "#load the data from remode link \n",
        "data = pd.read_csv(\"/content/SampleSuperstore.csv\")\n",
        "data"
      ],
      "metadata": {
        "id": "BORuQ_GUSb-t"
      },
      "execution_count": null,
      "outputs": []
    },
    {
      "cell_type": "code",
      "source": [
        "#show the shap of our dataset\n",
        "data.shape"
      ],
      "metadata": {
        "id": "7iR-LOb4aQ9d"
      },
      "execution_count": null,
      "outputs": []
    },
    {
      "cell_type": "code",
      "source": [
        "#show the columns names\n",
        "data.columns"
      ],
      "metadata": {
        "id": "b8tC9JBqabux"
      },
      "execution_count": null,
      "outputs": []
    },
    {
      "cell_type": "code",
      "source": [
        "#check data type of columns/attributes\n",
        "data.dtypes"
      ],
      "metadata": {
        "id": "-UvoFC23avnn"
      },
      "execution_count": null,
      "outputs": []
    },
    {
      "cell_type": "code",
      "source": [
        "#check if there are any missing values in the data\n",
        "data.isnull().sum()\n"
      ],
      "metadata": {
        "id": "kXorQ6Xkayyf"
      },
      "execution_count": null,
      "outputs": []
    },
    {
      "cell_type": "code",
      "source": [
        "#show the statistics operation\n",
        "data.describe(include =\"all\")"
      ],
      "metadata": {
        "id": "tIsPxgmHTA62"
      },
      "execution_count": null,
      "outputs": []
    },
    {
      "cell_type": "code",
      "source": [
        "data.hist(bins =8 , figsize = (16,8))"
      ],
      "metadata": {
        "id": "lQDvaAe6V0pY"
      },
      "execution_count": null,
      "outputs": []
    },
    {
      "cell_type": "code",
      "source": [
        "#draw a heatmap graph\n",
        "#annot:If True, write the data value in each cell.\n",
        "#data.corr()-->> calculate the correlation between the data\n",
        "plt.figure(figsize = (6,6))\n",
        "sns.heatmap( data.corr() , annot = True)"
      ],
      "metadata": {
        "id": "XGagLcYQWNio"
      },
      "execution_count": null,
      "outputs": []
    },
    {
      "cell_type": "markdown",
      "source": [
        "**(1) Analysis based on Ship Mode**"
      ],
      "metadata": {
        "id": "eOHc69dWbjOG"
      }
    },
    {
      "cell_type": "code",
      "source": [
        "#hue --> Variable in “data“ to map plot aspects to different colors.\n",
        "sns.pairplot(data , hue =\"Ship Mode\")\n",
        "plt.show()"
      ],
      "metadata": {
        "id": "jqv6f-dPXdVe"
      },
      "execution_count": null,
      "outputs": []
    },
    {
      "cell_type": "code",
      "source": [
        "sns.countplot(x = \"Ship Mode\" , data = data ,palette = \"husl\")\n",
        "plt.show()"
      ],
      "metadata": {
        "id": "V7cRW7hsdC8-"
      },
      "execution_count": null,
      "outputs": []
    },
    {
      "cell_type": "code",
      "source": [
        "#grouping based Ship Mode\n",
        "data_shipmode = data.groupby([\"Ship Mode\"])[[\"Sales\" ,\"Discount\",\t\"Profit\"]].mean()\n",
        "data_shipmode"
      ],
      "metadata": {
        "id": "ggIGjHGKh-ur"
      },
      "execution_count": null,
      "outputs": []
    },
    {
      "cell_type": "code",
      "source": [
        "data_shipmode.plot.pie(subplots =True , figsize =(20,10) , \n",
        "                       labels = data_shipmode.index ,\n",
        "                       autopct =\"%1.1f%%\" , explode = (0.01 ,0.01,0.01 ,0.01) ,\n",
        "                      colors = [\"green\" , \"blue\" , \"yellow\", \"red\"])\n",
        "plt.show()"
      ],
      "metadata": {
        "id": "xyaT87s_lVj4"
      },
      "execution_count": null,
      "outputs": []
    },
    {
      "cell_type": "code",
      "source": [
        "data_shipmode.sort_values(\"Profit\")[[\"Profit\" ,\"Sales\"]].plot(kind = \"bar\" ,\n",
        "                                                              figsize=(10,5))"
      ],
      "metadata": {
        "id": "VDH3GJymlV2x"
      },
      "execution_count": null,
      "outputs": []
    },
    {
      "cell_type": "code",
      "source": [
        "data_shipmode.sum(axis = 0)\n"
      ],
      "metadata": {
        "id": "WumKwXMflWAx"
      },
      "execution_count": null,
      "outputs": []
    },
    {
      "cell_type": "code",
      "source": [
        "data_shipmode[\"Sales%\"] = data_shipmode[\"Sales\"]/9.285\n",
        "data_shipmode[\"Profit%\"] = data_shipmode[\"Profit\"]/1.181\n"
      ],
      "metadata": {
        "id": "AS04TAJZlWU7"
      },
      "execution_count": null,
      "outputs": []
    },
    {
      "cell_type": "code",
      "source": [
        "data_shipmode.sort_values(\"Profit%\")"
      ],
      "metadata": {
        "id": "SDL3qYNPrUuw"
      },
      "execution_count": null,
      "outputs": []
    },
    {
      "cell_type": "markdown",
      "source": [
        "**Sales**\n",
        "\n",
        "Lowest sales: Standard Class(24.51%)\n",
        "\n",
        "Highest sales: Same Day(25.46%)\n",
        "\n",
        "**Profit**\n",
        "\n",
        "Lowest profit: Standard Class(23.28%)\n",
        "\n",
        "Highest profit: First class(26.96%)\n",
        "\n",
        "\n",
        "Though there is very little differences between the classes, still, maximum and minimum can be ascertained on seeing these analysis."
      ],
      "metadata": {
        "id": "dpjhymIlth5N"
      }
    },
    {
      "cell_type": "markdown",
      "source": [
        "**(2) Analysis based on segment.**"
      ],
      "metadata": {
        "id": "8vUe98AvuQJB"
      }
    },
    {
      "cell_type": "code",
      "source": [
        "#hue --> Variable in “data“ to map plot aspects to different colors.\n",
        "sns.pairplot(data , hue =\"Segment\")\n",
        "plt.show()"
      ],
      "metadata": {
        "id": "MhsBddaIuCCi"
      },
      "execution_count": null,
      "outputs": []
    },
    {
      "cell_type": "code",
      "source": [
        "sns.countplot(x = \"Segment\" , data = data ,palette = \"husl\")\n",
        "plt.show()"
      ],
      "metadata": {
        "id": "bwlSEhY7u5fc"
      },
      "execution_count": null,
      "outputs": []
    },
    {
      "cell_type": "code",
      "source": [
        "#grouping based Segment\n",
        "data_shipmode = data.groupby([\"Segment\"])[[\"Sales\" ,\"Discount\",\t\"Profit\"]].mean()\n",
        "data_shipmode"
      ],
      "metadata": {
        "id": "r5quknnwu_5Y"
      },
      "execution_count": null,
      "outputs": []
    },
    {
      "cell_type": "code",
      "source": [
        "data_shipmode.plot.pie(subplots =True , figsize =(20,10) , \n",
        "                       labels = data_shipmode.index ,autopct =\"%1.1f%%\" ,\n",
        "                       colors = [\"green\" , \"blue\" , \"yellow\"])\n",
        "plt.show()"
      ],
      "metadata": {
        "id": "j-9ccDbIvOG9"
      },
      "execution_count": null,
      "outputs": []
    },
    {
      "cell_type": "code",
      "source": [
        "data_shipmode.sort_values(\"Profit\")[[\"Profit\" ,\"Sales\"]].plot(kind = \"bar\" ,\n",
        "                                                              figsize=(10,5))"
      ],
      "metadata": {
        "id": "yII_VXwOvR8-"
      },
      "execution_count": null,
      "outputs": []
    },
    {
      "cell_type": "code",
      "source": [
        "data_shipmode.sum(axis = 0)"
      ],
      "metadata": {
        "id": "k7jzPt6cvSw-"
      },
      "execution_count": null,
      "outputs": []
    },
    {
      "cell_type": "code",
      "source": [
        "data_shipmode[\"Sales%\"] = data_shipmode[\"Sales\"]/6.985\n",
        "data_shipmode[\"Profit%\"] = data_shipmode[\"Profit\"]/0.9011"
      ],
      "metadata": {
        "id": "VxRPlqREval1"
      },
      "execution_count": null,
      "outputs": []
    },
    {
      "cell_type": "code",
      "source": [
        "data_shipmode.sort_values(\"Profit%\")"
      ],
      "metadata": {
        "id": "cw96raOuveAl"
      },
      "execution_count": null,
      "outputs": []
    },
    {
      "cell_type": "markdown",
      "source": [
        "**Sales**\n",
        "\n",
        "Lowest sales: Consumer(32.03%)\n",
        "\n",
        "Highest sales: Home Office(34.50%)\n",
        "\n",
        "**Profit**\n",
        "\n",
        "Lowest profit: Consumer(28.67%)\n",
        "\n",
        "Highest profit: Home Office(37.53%)\n",
        "\n",
        "Though there is very little differences between the classes, still, maximum and minimum can be ascertained on seeing these analysis. The corporates are on the second position for both sales an profits with Home office leading the drive in the best way for the company."
      ],
      "metadata": {
        "id": "h0_fY6ZLxA4u"
      }
    },
    {
      "cell_type": "markdown",
      "source": [
        "**(3) Analysis based on State.**\n"
      ],
      "metadata": {
        "id": "rqeB3D64xqny"
      }
    },
    {
      "cell_type": "code",
      "source": [
        "#hue --> Variable in “data“ to map plot aspects to different colors.\n",
        "sns.pairplot(data , hue =\"State\")\n",
        "plt.show()"
      ],
      "metadata": {
        "id": "WcW9oc4jw3YN"
      },
      "execution_count": null,
      "outputs": []
    },
    {
      "cell_type": "code",
      "source": [
        "plt.figure(figsize=(18,10))\n",
        "sns.countplot(data['State'])\n",
        "plt.xticks(rotation=90)"
      ],
      "metadata": {
        "id": "tsS43PxGx9_5"
      },
      "execution_count": null,
      "outputs": []
    },
    {
      "cell_type": "code",
      "source": [
        "#grouping based Segment\n",
        "data_state = data.groupby([\"State\"])[[\"Sales\" ,\"Discount\",\t\"Profit\"]].mean()\n",
        "data_state"
      ],
      "metadata": {
        "id": "4S9IL9mbyPwr"
      },
      "execution_count": null,
      "outputs": []
    },
    {
      "cell_type": "code",
      "source": [
        " data_state.sort_values('Sales')[\"Sales\"].plot(kind = \"bar\" , figsize =(15,10))"
      ],
      "metadata": {
        "id": "JvelR2sR0Hmg"
      },
      "execution_count": null,
      "outputs": []
    },
    {
      "cell_type": "code",
      "source": [
        "data_state.sort_values('Profit')[\"Profit\"].plot(kind=\"bar\", figsize=(15,10))"
      ],
      "metadata": {
        "id": "YKxCtFgz0fAF"
      },
      "execution_count": null,
      "outputs": []
    },
    {
      "cell_type": "code",
      "source": [
        "# Sorted by Profits\n",
        "data_state.sort_values('Profit')[['Profit','Sales']].plot(kind='bar', figsize=(15,10))"
      ],
      "metadata": {
        "id": "ci4crfH50TAN"
      },
      "execution_count": null,
      "outputs": []
    },
    {
      "cell_type": "code",
      "source": [
        "\n",
        "# Sorted by Sales\n",
        "data_state.sort_values('Sales')[['Profit','Sales']].plot(kind='bar', figsize=(15,10))"
      ],
      "metadata": {
        "id": "2YYT4SySyfKJ"
      },
      "execution_count": null,
      "outputs": []
    },
    {
      "cell_type": "code",
      "source": [
        "data_state.sum(axis=0)"
      ],
      "metadata": {
        "id": "dd1mArU62eCb"
      },
      "execution_count": null,
      "outputs": []
    },
    {
      "cell_type": "code",
      "source": [
        "data_state['Sales%'] = data_state['Sales']/135.454\n",
        "data_state['Profit%'] = data_state['Profit']/26.483"
      ],
      "metadata": {
        "id": "jf89BpUg2hmx"
      },
      "execution_count": null,
      "outputs": []
    },
    {
      "cell_type": "code",
      "source": [
        "data_state.sort_values('Profit%')"
      ],
      "metadata": {
        "id": "Dvj-qVQc2iaQ"
      },
      "execution_count": null,
      "outputs": []
    },
    {
      "cell_type": "markdown",
      "source": [
        "**Sales**\n",
        "\n",
        "Lowest sale: South Dakota(0.809%)\n",
        "\n",
        "Highest sale: Wyoming(11.835%)\n",
        "\n",
        "\n",
        "The company should focus on improving its sales in South Dakota, Kansas, New Mexico, North Dakota, Oregon and a few states where its share of sales is negligible.\n",
        "\n",
        "\n",
        "**profit**\n",
        "\n",
        "Lowest profit: Ohio(-1.366%)\n",
        "\n",
        "Highest profit: Vermont(7.706%)\n",
        "\n",
        "\n",
        "The company should investigate the reasons why 10 states lead to a loss with Ohio leading the charts. Errors should either be corrected or the current situation considered, if the company is not able to break even, operations should be stopped."
      ],
      "metadata": {
        "id": "fGKIrIwS3c9X"
      }
    },
    {
      "cell_type": "markdown",
      "source": [
        "**(4) Analysis based on Region.**"
      ],
      "metadata": {
        "id": "1tAunS546GRk"
      }
    },
    {
      "cell_type": "code",
      "source": [
        "#hue --> Variable in “data“ to map plot aspects to different colors.\n",
        "sns.pairplot(data , hue =\"Region\")\n",
        "plt.show()"
      ],
      "metadata": {
        "id": "tos_iT1g5988"
      },
      "execution_count": null,
      "outputs": []
    },
    {
      "cell_type": "code",
      "source": [
        "sns.countplot(data[\"Region\"] , palette = \"tab10\")"
      ],
      "metadata": {
        "id": "EOs4WfTW6WVL"
      },
      "execution_count": null,
      "outputs": []
    },
    {
      "cell_type": "code",
      "source": [
        "data_region = data.groupby(['Region'])[['Sales','Profit']].mean()\n",
        "data_region"
      ],
      "metadata": {
        "id": "gPG1FpDd6j7H"
      },
      "execution_count": null,
      "outputs": []
    },
    {
      "cell_type": "code",
      "source": [
        "data_region.plot.pie(subplots =True , labels =data_region.index.values ,figsize =(15,10) , autopct =\"%1.1f%%\" )"
      ],
      "metadata": {
        "id": "gGeXtp4S660X"
      },
      "execution_count": null,
      "outputs": []
    },
    {
      "cell_type": "code",
      "source": [
        "data_region.sum(axis = 0)"
      ],
      "metadata": {
        "id": "zVTTbiQZ9Jm7"
      },
      "execution_count": null,
      "outputs": []
    },
    {
      "cell_type": "code",
      "source": [
        "data_region[\"Sales%\"] = data_region[\"Sales\"] / 9.224\n",
        "data_region[\"Profit%\"] = data_region[\"Profit\"]  / 1.119"
      ],
      "metadata": {
        "id": "R1B17EHP9XtH"
      },
      "execution_count": null,
      "outputs": []
    },
    {
      "cell_type": "code",
      "source": [
        "data_region.sort_values(\"Profit\")"
      ],
      "metadata": {
        "id": "bnzUVxU691ov"
      },
      "execution_count": null,
      "outputs": []
    },
    {
      "cell_type": "code",
      "source": [
        ""
      ],
      "metadata": {
        "id": "N5wV4XT5-TU7"
      },
      "execution_count": null,
      "outputs": []
    },
    {
      "cell_type": "markdown",
      "source": [
        "**Sales** \n",
        "\n",
        "Lowest Sales : Central (23.39%)\n",
        "\n",
        "Highest Sales : South (26.21%)\n",
        "\n",
        "Sales look good in all regions because the range of variance is lower, but steps can still be taken to improve sales in the central region.\n",
        "\n",
        "**Profit**\n",
        "\n",
        "Lowest Profit : Central (15.27%)\n",
        "\n",
        "Highest Profit : West (30.25%)\n",
        "\n",
        "Profits should be considered since the western region gives almost double profit as compared to the central region, so the company will have to take steps to analyze the shortfall in terms of sales and profits for the central region."
      ],
      "metadata": {
        "id": "3gb95Grx-aMq"
      }
    },
    {
      "cell_type": "code",
      "source": [
        ""
      ],
      "metadata": {
        "id": "OqaanswnAWut"
      },
      "execution_count": null,
      "outputs": []
    },
    {
      "cell_type": "markdown",
      "source": [
        "**(5) Analysis of Sub Category.**"
      ],
      "metadata": {
        "id": "II9xmgbCAcUW"
      }
    },
    {
      "cell_type": "code",
      "source": [
        "plt.figure(figsize=(15,7))\n",
        "sns.countplot(data['Sub-Category'])\n",
        "plt.xticks(rotation=90)"
      ],
      "metadata": {
        "id": "Byqvw9RZAgKS"
      },
      "execution_count": null,
      "outputs": []
    },
    {
      "cell_type": "code",
      "source": [
        "data_subcat = data.groupby(['Sub-Category'])[['Sales','Profit']].mean()\n"
      ],
      "metadata": {
        "id": "Cc6tgO7TAm5T"
      },
      "execution_count": null,
      "outputs": []
    },
    {
      "cell_type": "code",
      "source": [
        "#Sales for sub categories\n",
        "plt.figure(figsize=(15,18))\n",
        "plt.pie(data_subcat['Sales'], labels = data_subcat.index, autopct='%1.1f%%')\n",
        "plt.show()"
      ],
      "metadata": {
        "id": "73rcUDsGAqYh"
      },
      "execution_count": null,
      "outputs": []
    },
    {
      "cell_type": "code",
      "source": [
        "#Profits for sub categories\n",
        "data_subcat.sort_values('Profit')[['Profit','Sales']].plot(kind='bar', figsize=(15,10))"
      ],
      "metadata": {
        "id": "hfHzIs_ZA16h"
      },
      "execution_count": null,
      "outputs": []
    },
    {
      "cell_type": "code",
      "source": [
        "data_subcat.sum(axis=0)"
      ],
      "metadata": {
        "id": "WJ6NsjeVBFX7"
      },
      "execution_count": null,
      "outputs": []
    },
    {
      "cell_type": "code",
      "source": [
        "data_subcat['Sales%'] = data_subcat['Sales']/72.915\n",
        "data_subcat['Profit%'] = data_subcat['Profit']/10.952"
      ],
      "metadata": {
        "id": "XCgi7SEoBIvV"
      },
      "execution_count": null,
      "outputs": []
    },
    {
      "cell_type": "code",
      "source": [
        "data_subcat.sort_values('Sales')"
      ],
      "metadata": {
        "id": "5g5gnN6WBMcT"
      },
      "execution_count": null,
      "outputs": []
    },
    {
      "cell_type": "markdown",
      "source": [
        "**Sales**\n",
        "\n",
        "Lowest sales: Fasteners(0.2%)\n",
        "\n",
        "Highest sales: Copiers(30.2%)\n",
        "\n",
        "**Profit**\n",
        "\n",
        "Lowest profit: Tables(-55.6%)\n",
        "\n",
        "Highest profit: Copiers(74.7%)\n",
        "\n",
        "Looking at the statistical numbers, the company should have the main job in copiers because sales and profits are heavily influenced by copiers.\n",
        "The company should stop selling tables because it contributes to a huge loss and steps can be taken to improve profits for other subcategories."
      ],
      "metadata": {
        "id": "wmoH70dSBgkd"
      }
    },
    {
      "cell_type": "code",
      "source": [
        ""
      ],
      "metadata": {
        "id": "nm01oGL2BP5n"
      },
      "execution_count": null,
      "outputs": []
    }
  ]
}